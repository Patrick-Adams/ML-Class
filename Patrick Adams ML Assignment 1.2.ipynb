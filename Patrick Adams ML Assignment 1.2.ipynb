{
 "cells": [
  {
   "cell_type": "markdown",
   "id": "ab09c829",
   "metadata": {},
   "source": [
    "### Hi Professor,\n",
    "#### This note is a disclaimer that the work here is clearly not the best. Part 3 is unaswered and Parts 1 and 2 are not great either. Honestly, I have no prior experience with machine learning or datasets like this, so I am trying to learn all the prerequisite stuff on the fly. I promise my upcoming assignments will be much more flushed out and clear, as I will be practicing more and more.\n",
    "#### Thank you for understanding,\n",
    "#### Patrick Adams"
   ]
  },
  {
   "cell_type": "code",
   "execution_count": null,
   "id": "ed17475f",
   "metadata": {},
   "outputs": [],
   "source": []
  },
  {
   "cell_type": "code",
   "execution_count": null,
   "id": "4850b28c",
   "metadata": {},
   "outputs": [],
   "source": []
  },
  {
   "cell_type": "markdown",
   "id": "2b96fe9f",
   "metadata": {},
   "source": [
    "# Part 1:"
   ]
  },
  {
   "cell_type": "code",
   "execution_count": 225,
   "id": "6d70dbff",
   "metadata": {},
   "outputs": [],
   "source": [
    "import pandas as pd\n",
    "import numpy as np\n"
   ]
  },
  {
   "cell_type": "code",
   "execution_count": 226,
   "id": "0eb363d7",
   "metadata": {},
   "outputs": [],
   "source": [
    "#Imported modules\n",
    "\n",
    "from sklearn.preprocessing import StandardScaler\n",
    "from sklearn.model_selection import train_test_split\n",
    "\n",
    "import matplotlib.pyplot as plt\n",
    "from matplotlib.ticker import NullFormatter\n",
    "import matplotlib.ticker as ticker\n",
    "%matplotlib inline\n",
    "\n",
    "from sklearn.neighbors import KNeighborsClassifier\n",
    "from sklearn import metrics"
   ]
  },
  {
   "cell_type": "code",
   "execution_count": 227,
   "id": "acd57c0c",
   "metadata": {},
   "outputs": [],
   "source": [
    "#loading dataframe\n",
    "\n",
    "df = pd.read_csv(\"diabetes.csv\")"
   ]
  },
  {
   "cell_type": "code",
   "execution_count": 228,
   "id": "9c858c6b",
   "metadata": {},
   "outputs": [
    {
     "data": {
      "text/html": [
       "<div>\n",
       "<style scoped>\n",
       "    .dataframe tbody tr th:only-of-type {\n",
       "        vertical-align: middle;\n",
       "    }\n",
       "\n",
       "    .dataframe tbody tr th {\n",
       "        vertical-align: top;\n",
       "    }\n",
       "\n",
       "    .dataframe thead th {\n",
       "        text-align: right;\n",
       "    }\n",
       "</style>\n",
       "<table border=\"1\" class=\"dataframe\">\n",
       "  <thead>\n",
       "    <tr style=\"text-align: right;\">\n",
       "      <th></th>\n",
       "      <th>Pregnancies</th>\n",
       "      <th>Glucose</th>\n",
       "      <th>BloodPressure</th>\n",
       "      <th>SkinThickness</th>\n",
       "      <th>Insulin</th>\n",
       "      <th>BMI</th>\n",
       "      <th>DiabetesPedigreeFunction</th>\n",
       "      <th>Age</th>\n",
       "      <th>Outcome</th>\n",
       "    </tr>\n",
       "  </thead>\n",
       "  <tbody>\n",
       "    <tr>\n",
       "      <th>0</th>\n",
       "      <td>6</td>\n",
       "      <td>148</td>\n",
       "      <td>72</td>\n",
       "      <td>35</td>\n",
       "      <td>0</td>\n",
       "      <td>33.6</td>\n",
       "      <td>0.627</td>\n",
       "      <td>50</td>\n",
       "      <td>1</td>\n",
       "    </tr>\n",
       "    <tr>\n",
       "      <th>1</th>\n",
       "      <td>1</td>\n",
       "      <td>85</td>\n",
       "      <td>66</td>\n",
       "      <td>29</td>\n",
       "      <td>0</td>\n",
       "      <td>26.6</td>\n",
       "      <td>0.351</td>\n",
       "      <td>31</td>\n",
       "      <td>0</td>\n",
       "    </tr>\n",
       "    <tr>\n",
       "      <th>2</th>\n",
       "      <td>8</td>\n",
       "      <td>183</td>\n",
       "      <td>64</td>\n",
       "      <td>0</td>\n",
       "      <td>0</td>\n",
       "      <td>23.3</td>\n",
       "      <td>0.672</td>\n",
       "      <td>32</td>\n",
       "      <td>1</td>\n",
       "    </tr>\n",
       "    <tr>\n",
       "      <th>3</th>\n",
       "      <td>1</td>\n",
       "      <td>89</td>\n",
       "      <td>66</td>\n",
       "      <td>23</td>\n",
       "      <td>94</td>\n",
       "      <td>28.1</td>\n",
       "      <td>0.167</td>\n",
       "      <td>21</td>\n",
       "      <td>0</td>\n",
       "    </tr>\n",
       "    <tr>\n",
       "      <th>4</th>\n",
       "      <td>0</td>\n",
       "      <td>137</td>\n",
       "      <td>40</td>\n",
       "      <td>35</td>\n",
       "      <td>168</td>\n",
       "      <td>43.1</td>\n",
       "      <td>2.288</td>\n",
       "      <td>33</td>\n",
       "      <td>1</td>\n",
       "    </tr>\n",
       "  </tbody>\n",
       "</table>\n",
       "</div>"
      ],
      "text/plain": [
       "   Pregnancies  Glucose  BloodPressure  SkinThickness  Insulin   BMI  \\\n",
       "0            6      148             72             35        0  33.6   \n",
       "1            1       85             66             29        0  26.6   \n",
       "2            8      183             64              0        0  23.3   \n",
       "3            1       89             66             23       94  28.1   \n",
       "4            0      137             40             35      168  43.1   \n",
       "\n",
       "   DiabetesPedigreeFunction  Age  Outcome  \n",
       "0                     0.627   50        1  \n",
       "1                     0.351   31        0  \n",
       "2                     0.672   32        1  \n",
       "3                     0.167   21        0  \n",
       "4                     2.288   33        1  "
      ]
     },
     "execution_count": 228,
     "metadata": {},
     "output_type": "execute_result"
    }
   ],
   "source": [
    "df.head()"
   ]
  },
  {
   "cell_type": "code",
   "execution_count": 229,
   "id": "cecfb449",
   "metadata": {},
   "outputs": [],
   "source": [
    "#Scaler function from scratch\n",
    "scaler = (df - df.mean())/df.std()"
   ]
  },
  {
   "cell_type": "code",
   "execution_count": 230,
   "id": "f8584fe7",
   "metadata": {},
   "outputs": [
    {
     "data": {
      "text/html": [
       "<div>\n",
       "<style scoped>\n",
       "    .dataframe tbody tr th:only-of-type {\n",
       "        vertical-align: middle;\n",
       "    }\n",
       "\n",
       "    .dataframe tbody tr th {\n",
       "        vertical-align: top;\n",
       "    }\n",
       "\n",
       "    .dataframe thead th {\n",
       "        text-align: right;\n",
       "    }\n",
       "</style>\n",
       "<table border=\"1\" class=\"dataframe\">\n",
       "  <thead>\n",
       "    <tr style=\"text-align: right;\">\n",
       "      <th></th>\n",
       "      <th>Pregnancies</th>\n",
       "      <th>Glucose</th>\n",
       "      <th>BloodPressure</th>\n",
       "      <th>SkinThickness</th>\n",
       "      <th>Insulin</th>\n",
       "      <th>BMI</th>\n",
       "      <th>DiabetesPedigreeFunction</th>\n",
       "      <th>Age</th>\n",
       "      <th>Outcome</th>\n",
       "    </tr>\n",
       "  </thead>\n",
       "  <tbody>\n",
       "    <tr>\n",
       "      <th>0</th>\n",
       "      <td>0.639530</td>\n",
       "      <td>0.847771</td>\n",
       "      <td>0.149543</td>\n",
       "      <td>0.906679</td>\n",
       "      <td>-0.692439</td>\n",
       "      <td>0.203880</td>\n",
       "      <td>0.468187</td>\n",
       "      <td>1.425067</td>\n",
       "      <td>1.365006</td>\n",
       "    </tr>\n",
       "    <tr>\n",
       "      <th>1</th>\n",
       "      <td>-0.844335</td>\n",
       "      <td>-1.122665</td>\n",
       "      <td>-0.160441</td>\n",
       "      <td>0.530556</td>\n",
       "      <td>-0.692439</td>\n",
       "      <td>-0.683976</td>\n",
       "      <td>-0.364823</td>\n",
       "      <td>-0.190548</td>\n",
       "      <td>-0.731643</td>\n",
       "    </tr>\n",
       "    <tr>\n",
       "      <th>2</th>\n",
       "      <td>1.233077</td>\n",
       "      <td>1.942458</td>\n",
       "      <td>-0.263769</td>\n",
       "      <td>-1.287373</td>\n",
       "      <td>-0.692439</td>\n",
       "      <td>-1.102537</td>\n",
       "      <td>0.604004</td>\n",
       "      <td>-0.105515</td>\n",
       "      <td>1.365006</td>\n",
       "    </tr>\n",
       "    <tr>\n",
       "      <th>3</th>\n",
       "      <td>-0.844335</td>\n",
       "      <td>-0.997558</td>\n",
       "      <td>-0.160441</td>\n",
       "      <td>0.154433</td>\n",
       "      <td>0.123221</td>\n",
       "      <td>-0.493721</td>\n",
       "      <td>-0.920163</td>\n",
       "      <td>-1.040871</td>\n",
       "      <td>-0.731643</td>\n",
       "    </tr>\n",
       "    <tr>\n",
       "      <th>4</th>\n",
       "      <td>-1.141108</td>\n",
       "      <td>0.503727</td>\n",
       "      <td>-1.503707</td>\n",
       "      <td>0.906679</td>\n",
       "      <td>0.765337</td>\n",
       "      <td>1.408828</td>\n",
       "      <td>5.481337</td>\n",
       "      <td>-0.020483</td>\n",
       "      <td>1.365006</td>\n",
       "    </tr>\n",
       "  </tbody>\n",
       "</table>\n",
       "</div>"
      ],
      "text/plain": [
       "   Pregnancies   Glucose  BloodPressure  SkinThickness   Insulin       BMI  \\\n",
       "0     0.639530  0.847771       0.149543       0.906679 -0.692439  0.203880   \n",
       "1    -0.844335 -1.122665      -0.160441       0.530556 -0.692439 -0.683976   \n",
       "2     1.233077  1.942458      -0.263769      -1.287373 -0.692439 -1.102537   \n",
       "3    -0.844335 -0.997558      -0.160441       0.154433  0.123221 -0.493721   \n",
       "4    -1.141108  0.503727      -1.503707       0.906679  0.765337  1.408828   \n",
       "\n",
       "   DiabetesPedigreeFunction       Age   Outcome  \n",
       "0                  0.468187  1.425067  1.365006  \n",
       "1                 -0.364823 -0.190548 -0.731643  \n",
       "2                  0.604004 -0.105515  1.365006  \n",
       "3                 -0.920163 -1.040871 -0.731643  \n",
       "4                  5.481337 -0.020483  1.365006  "
      ]
     },
     "execution_count": 230,
     "metadata": {},
     "output_type": "execute_result"
    }
   ],
   "source": [
    "scaler.head()"
   ]
  },
  {
   "cell_type": "code",
   "execution_count": 244,
   "id": "dbb33975",
   "metadata": {},
   "outputs": [],
   "source": [
    "X = scaler.drop(['Outcome'], axis =1)\n",
    "y = df['Outcome']\n",
    "\n",
    "X_train, X_test, y_train, y_test = train_test_split( X, y, test_size=0.2, random_state=42)\n"
   ]
  },
  {
   "cell_type": "code",
   "execution_count": 248,
   "id": "5797055c",
   "metadata": {},
   "outputs": [
    {
     "name": "stdout",
     "output_type": "stream",
     "text": [
      "Accuracy of model at K=84 is 0.7662337662337663\n"
     ]
    }
   ],
   "source": [
    "#Train Model and Predict\n",
    "k = 84\n",
    "clf = KNeighborsClassifier(n_neighbors = k)\n",
    "\n",
    "clf.fit(X_train,y_train)\n",
    "Pred_y = clf.predict(X_test)\n",
    "print(\"Accuracy of model at K=84 is\",metrics.accuracy_score(y_test, Pred_y))\n",
    "\n",
    "#Warning filter\n",
    "from warnings import simplefilter\n",
    "simplefilter(action='ignore', category=FutureWarning)"
   ]
  },
  {
   "cell_type": "code",
   "execution_count": 249,
   "id": "5d6f0426",
   "metadata": {},
   "outputs": [
    {
     "name": "stdout",
     "output_type": "stream",
     "text": [
      "Minimum error: 0.22077922077922077 at K = 84\n"
     ]
    },
    {
     "data": {
      "image/png": "[encoded data removed]",
      "text/plain": [
       "<Figure size 1000x600 with 1 Axes>"
      ]
     },
     "metadata": {},
     "output_type": "display_data"
    }
   ],
   "source": [
    "#Plotting some data\n",
    "\n",
    "error_rate = []\n",
    "for i in range(1,100):\n",
    " knn = KNeighborsClassifier(n_neighbors=i)\n",
    " knn.fit(X_train,y_train)\n",
    " pred_i = knn.predict(X_test)\n",
    " error_rate.append(np.mean(pred_i != y_test))\n",
    "\n",
    "plt.figure(figsize=(10,6))\n",
    "plt.plot(range(1,100),error_rate,color='blue', linestyle='dashed', \n",
    "         marker='o',markerfacecolor='red', markersize=10)\n",
    "plt.title('Error Rate vs. K Value')\n",
    "plt.xlabel('K')\n",
    "plt.ylabel('Error Rate')\n",
    "print(\"Minimum error:\",min(error_rate),\"at K =\",error_rate.index(min(error_rate)))\n"
   ]
  },
  {
   "cell_type": "code",
   "execution_count": 250,
   "id": "ef3835bd",
   "metadata": {},
   "outputs": [],
   "source": [
    "#More imports\n",
    "\n",
    "from sklearn.model_selection import train_test_split\n",
    "from sklearn.model_selection import KFold\n",
    "from sklearn.model_selection import cross_val_score\n",
    "from numpy import mean\n",
    "from numpy import absolute\n",
    "from numpy import sqrt\n"
   ]
  },
  {
   "cell_type": "code",
   "execution_count": 251,
   "id": "99071922",
   "metadata": {},
   "outputs": [],
   "source": [
    "#define cross-validation method to use\n",
    "cv = KFold(n_splits=5, random_state=42, shuffle=True)"
   ]
  },
  {
   "cell_type": "code",
   "execution_count": 252,
   "id": "e47c5b37",
   "metadata": {},
   "outputs": [
    {
     "name": "stdout",
     "output_type": "stream",
     "text": [
      "Fold 0:\n",
      "  Train: index=[  0   1   3   4   5   6   8   9  11  12  13  14  15  16  17  18  19  20\n",
      "  21  22  24  25  26  27  28  29  32  34  35  36  37  38  40  41  42  43\n",
      "  44  45  46  47  48  50  51  52  53  56  57  58  59  60  61  62  64  68\n",
      "  69  70  71  73  74  75  80  82  83  85  87  88  89  90  91  92  93  94\n",
      "  95  96  98  99 100 102 103 104 105 106 107 108 110 111 112 113 114 115\n",
      " 116 117 119 121 122 123 124 125 126 127 128 129 130 131 132 134 135 136\n",
      " 138 139 140 141 142 143 144 145 146 147 149 150 151 152 153 154 156 157\n",
      " 158 159 160 161 162 163 164 165 166 167 169 170 171 172 173 175 176 177\n",
      " 178 179 180 182 183 184 185 186 187 188 189 190 191 194 195 197 198 200\n",
      " 201 202 203 205 206 207 214 216 217 219 221 222 223 224 225 226 228 229\n",
      " 230 231 232 233 235 236 237 238 240 241 242 243 245 246 247 248 249 251\n",
      " 252 253 255 256 257 258 260 261 262 263 264 266 267 268 269 270 271 272\n",
      " 273 274 276 277 278 279 280 282 283 284 285 286 287 288 289 291 292 293\n",
      " 294 295 297 298 301 302 303 304 305 306 307 308 310 311 312 313 315 316\n",
      " 317 318 319 320 321 322 323 325 326 327 329 330 332 333 334 335 337 339\n",
      " 340 341 342 343 345 346 347 348 349 351 352 353 354 357 358 359 360 364\n",
      " 365 366 367 368 369 370 371 372 373 374 376 377 378 379 380 381 384 385\n",
      " 386 387 388 389 390 391 392 393 395 397 398 399 400 401 402 403 406 407\n",
      " 408 410 412 413 414 415 416 417 418 419 420 421 422 423 424 426 427 429\n",
      " 430 432 434 435 436 437 438 439 440 441 442 443 444 445 446 447 449 450\n",
      " 452 453 454 455 458 459 460 461 463 464 465 466 467 469 471 472 474 475\n",
      " 476 477 478 479 480 481 484 485 488 489 491 492 493 495 496 497 498 499\n",
      " 500 502 503 504 505 506 507 508 509 510 514 515 517 518 520 521 522 523\n",
      " 524 525 526 527 529 530 531 532 533 535 536 537 538 539 540 541 542 543\n",
      " 545 546 547 550 551 552 553 554 555 556 557 558 559 560 561 562 563 564\n",
      " 565 566 567 569 570 571 572 573 574 575 576 577 578 580 583 584 585 586\n",
      " 588 589 590 591 592 593 594 595 596 597 598 599 600 601 602 607 608 609\n",
      " 610 611 612 613 614 615 616 618 619 621 622 623 625 626 627 628 630 631\n",
      " 632 633 634 637 638 640 641 642 643 644 645 646 647 649 650 651 652 653\n",
      " 654 655 656 657 658 660 661 663 664 665 666 669 670 671 672 673 674 675\n",
      " 676 678 679 680 681 682 683 684 685 686 687 688 689 693 695 696 697 698\n",
      " 699 700 701 702 703 704 705 707 708 709 710 711 712 713 715 717 718 719\n",
      " 721 722 723 724 726 727 729 730 732 733 735 736 737 738 739 740 741 742\n",
      " 743 744 745 746 747 749 750 751 752 753 755 756 757 758 759 761 762 765\n",
      " 766 767]\n",
      "  Test:  index=[  2   7  10  23  30  31  33  39  49  54  55  63  65  66  67  72  76  77\n",
      "  78  79  81  84  86  97 101 109 118 120 133 137 148 155 168 174 181 192\n",
      " 193 196 199 204 208 209 210 211 212 213 215 218 220 227 234 239 244 250\n",
      " 254 259 265 275 281 290 296 299 300 309 314 324 328 331 336 338 344 350\n",
      " 355 356 361 362 363 375 382 383 394 396 404 405 409 411 425 428 431 433\n",
      " 448 451 456 457 462 468 470 473 482 483 486 487 490 494 501 511 512 513\n",
      " 516 519 528 534 544 548 549 568 579 581 582 587 603 604 605 606 617 620\n",
      " 624 629 635 636 639 648 659 662 667 668 677 690 691 692 694 706 714 716\n",
      " 720 725 728 731 734 748 754 760 763 764]\n",
      "Fold 1:\n",
      "  Train: index=[  0   1   2   3   4   5   7   8   9  10  12  13  14  16  17  19  20  21\n",
      "  22  23  25  26  27  30  31  32  33  34  35  36  37  38  39  40  45  46\n",
      "  47  48  49  50  52  53  54  55  57  58  59  62  63  64  65  66  67  68\n",
      "  71  72  75  76  77  78  79  80  81  84  85  86  87  88  91  93  94  95\n",
      "  96  97  98  99 100 101 102 103 105 106 107 109 111 112 113 115 116 117\n",
      " 118 119 120 121 122 123 124 125 126 127 128 129 130 133 134 137 138 141\n",
      " 142 143 144 146 147 148 149 150 151 152 153 154 155 156 157 159 160 161\n",
      " 162 166 168 169 170 171 172 173 174 175 179 180 181 183 184 185 186 187\n",
      " 188 189 190 191 192 193 194 195 196 197 199 200 201 202 203 204 205 206\n",
      " 207 208 209 210 211 212 213 214 215 216 217 218 219 220 221 222 224 225\n",
      " 226 227 228 229 230 232 233 234 236 237 238 239 240 241 242 243 244 245\n",
      " 246 249 250 251 252 253 254 255 258 259 261 262 263 265 267 268 269 270\n",
      " 271 272 273 274 275 276 277 278 279 280 281 282 283 284 285 287 288 289\n",
      " 290 293 295 296 297 298 299 300 301 303 304 305 307 308 309 310 312 313\n",
      " 314 315 316 317 318 320 321 322 324 325 328 330 331 332 336 337 338 339\n",
      " 341 343 344 345 347 348 349 350 353 354 355 356 358 359 361 362 363 364\n",
      " 365 366 368 369 370 371 372 373 374 375 376 378 379 382 383 384 385 386\n",
      " 387 389 390 391 392 394 396 397 398 399 400 401 402 403 404 405 406 407\n",
      " 408 409 410 411 413 414 415 416 418 419 420 421 422 423 424 425 426 427\n",
      " 428 430 431 433 434 435 436 437 438 441 442 444 445 447 448 450 451 452\n",
      " 454 455 456 457 458 459 460 461 462 463 466 467 468 469 470 471 472 473\n",
      " 474 475 476 479 480 482 483 484 486 487 488 489 490 491 492 493 494 495\n",
      " 496 498 499 500 501 502 503 504 505 507 508 509 510 511 512 513 515 516\n",
      " 517 519 520 521 522 523 524 526 527 528 530 531 533 534 536 537 540 541\n",
      " 542 543 544 545 546 548 549 550 551 552 553 555 556 558 560 561 562 563\n",
      " 564 565 566 567 568 569 571 573 574 575 576 577 578 579 580 581 582 584\n",
      " 585 587 588 590 591 592 595 596 597 598 600 601 602 603 604 605 606 607\n",
      " 609 610 611 612 613 614 617 620 621 622 623 624 625 627 628 629 630 633\n",
      " 634 635 636 638 639 641 642 644 645 646 647 648 649 650 651 652 653 654\n",
      " 655 656 657 658 659 660 661 662 663 664 665 667 668 669 670 672 674 676\n",
      " 677 678 680 681 683 684 686 687 688 689 690 691 692 693 694 695 696 697\n",
      " 698 699 700 701 702 704 706 708 709 710 711 712 714 715 716 717 720 721\n",
      " 722 723 724 725 726 727 728 729 730 731 732 733 734 736 737 738 739 740\n",
      " 741 742 743 744 747 748 750 751 752 753 754 756 757 759 760 761 763 764\n",
      " 765 767]\n",
      "  Test:  index=[  6  11  15  18  24  28  29  41  42  43  44  51  56  60  61  69  70  73\n",
      "  74  82  83  89  90  92 104 108 110 114 131 132 135 136 139 140 145 158\n",
      " 163 164 165 167 176 177 178 182 198 223 231 235 247 248 256 257 260 264\n",
      " 266 286 291 292 294 302 306 311 319 323 326 327 329 333 334 335 340 342\n",
      " 346 351 352 357 360 367 377 380 381 388 393 395 412 417 429 432 439 440\n",
      " 443 446 449 453 464 465 477 478 481 485 497 506 514 518 525 529 532 535\n",
      " 538 539 547 554 557 559 570 572 583 586 589 593 594 599 608 615 616 618\n",
      " 619 626 631 632 637 640 643 666 671 673 675 679 682 685 703 705 707 713\n",
      " 718 719 735 745 746 749 755 758 762 766]\n",
      "Fold 2:\n",
      "  Train: index=[  1   2   3   4   5   6   7   8  10  11  13  14  15  16  18  20  21  23\n",
      "  24  26  27  28  29  30  31  32  33  34  35  36  37  39  40  41  42  43\n",
      "  44  45  47  48  49  50  51  52  53  54  55  56  58  60  61  62  63  64\n",
      "  65  66  67  69  70  71  72  73  74  76  77  78  79  80  81  82  83  84\n",
      "  85  86  87  89  90  91  92  95  96  97  98  99 101 102 103 104 105 106\n",
      " 108 109 110 111 112 114 118 119 120 121 122 123 127 128 129 130 131 132\n",
      " 133 134 135 136 137 138 139 140 143 145 146 147 148 150 151 152 155 156\n",
      " 157 158 159 160 161 162 163 164 165 166 167 168 170 171 174 175 176 177\n",
      " 178 181 182 183 186 187 189 191 192 193 194 196 197 198 199 200 201 202\n",
      " 204 205 206 207 208 209 210 211 212 213 214 215 216 217 218 219 220 223\n",
      " 224 225 226 227 229 230 231 232 233 234 235 237 239 240 241 242 243 244\n",
      " 246 247 248 250 251 252 253 254 256 257 258 259 260 262 263 264 265 266\n",
      " 267 269 270 273 275 276 279 281 282 283 285 286 288 290 291 292 293 294\n",
      " 295 296 297 299 300 302 303 306 308 309 311 313 314 315 316 317 319 323\n",
      " 324 325 326 327 328 329 330 331 333 334 335 336 337 338 339 340 342 343\n",
      " 344 345 346 347 348 350 351 352 355 356 357 358 360 361 362 363 364 366\n",
      " 367 370 372 373 374 375 376 377 378 379 380 381 382 383 384 385 386 387\n",
      " 388 389 391 392 393 394 395 396 397 400 401 402 403 404 405 406 409 410\n",
      " 411 412 413 414 415 417 418 419 421 425 427 428 429 431 432 433 435 437\n",
      " 438 439 440 441 442 443 446 447 448 449 451 452 453 454 455 456 457 458\n",
      " 459 460 461 462 463 464 465 466 468 469 470 471 472 473 474 475 476 477\n",
      " 478 480 481 482 483 484 485 486 487 488 489 490 491 492 494 496 497 498\n",
      " 499 501 502 503 504 505 506 508 509 510 511 512 513 514 515 516 518 519\n",
      " 520 521 524 525 528 529 532 534 535 536 537 538 539 540 541 542 543 544\n",
      " 546 547 548 549 550 551 552 553 554 555 556 557 558 559 560 561 562 563\n",
      " 564 565 566 567 568 569 570 571 572 573 574 577 579 580 581 582 583 584\n",
      " 585 586 587 588 589 591 592 593 594 596 597 599 600 601 603 604 605 606\n",
      " 607 608 609 610 612 613 614 615 616 617 618 619 620 621 624 625 626 628\n",
      " 629 630 631 632 634 635 636 637 639 640 642 643 646 647 648 650 651 652\n",
      " 653 655 656 657 658 659 660 661 662 663 665 666 667 668 670 671 673 675\n",
      " 676 677 678 679 680 681 682 683 684 685 686 687 688 690 691 692 693 694\n",
      " 697 699 700 702 703 704 705 706 707 708 710 712 713 714 716 717 718 719\n",
      " 720 721 722 723 725 726 728 729 730 731 733 734 735 736 738 740 741 742\n",
      " 743 744 745 746 747 748 749 750 753 754 755 756 758 760 761 762 763 764\n",
      " 765 766]\n",
      "  Test:  index=[  0   9  12  17  19  22  25  38  46  57  59  68  75  88  93  94 100 107\n",
      " 113 115 116 117 124 125 126 141 142 144 149 153 154 169 172 173 179 180\n",
      " 184 185 188 190 195 203 221 222 228 236 238 245 249 255 261 268 271 272\n",
      " 274 277 278 280 284 287 289 298 301 304 305 307 310 312 318 320 321 322\n",
      " 332 341 349 353 354 359 365 368 369 371 390 398 399 407 408 416 420 422\n",
      " 423 424 426 430 434 436 444 445 450 467 479 493 495 500 507 517 522 523\n",
      " 526 527 530 531 533 545 575 576 578 590 595 598 602 611 622 623 627 633\n",
      " 638 641 644 645 649 654 664 669 672 674 689 695 696 698 701 709 711 715\n",
      " 724 727 732 737 739 751 752 757 759 767]\n",
      "Fold 3:\n",
      "  Train: index=[  0   1   2   4   6   7   9  10  11  12  13  14  15  17  18  19  20  21\n",
      "  22  23  24  25  27  28  29  30  31  32  33  34  35  38  39  40  41  42\n",
      "  43  44  46  47  49  51  52  54  55  56  57  58  59  60  61  62  63  64\n",
      "  65  66  67  68  69  70  71  72  73  74  75  76  77  78  79  80  81  82\n",
      "  83  84  85  86  87  88  89  90  91  92  93  94  95  97  98  99 100 101\n",
      " 102 104 105 106 107 108 109 110 113 114 115 116 117 118 120 121 124 125\n",
      " 126 128 130 131 132 133 134 135 136 137 138 139 140 141 142 144 145 148\n",
      " 149 153 154 155 156 158 159 160 161 163 164 165 166 167 168 169 170 172\n",
      " 173 174 176 177 178 179 180 181 182 184 185 187 188 189 190 191 192 193\n",
      " 195 196 198 199 200 201 203 204 205 206 208 209 210 211 212 213 214 215\n",
      " 216 217 218 220 221 222 223 227 228 230 231 234 235 236 238 239 240 241\n",
      " 242 243 244 245 247 248 249 250 251 252 254 255 256 257 259 260 261 264\n",
      " 265 266 268 269 270 271 272 273 274 275 276 277 278 280 281 284 286 287\n",
      " 288 289 290 291 292 294 295 296 298 299 300 301 302 304 305 306 307 308\n",
      " 309 310 311 312 313 314 315 318 319 320 321 322 323 324 326 327 328 329\n",
      " 330 331 332 333 334 335 336 337 338 339 340 341 342 343 344 345 346 349\n",
      " 350 351 352 353 354 355 356 357 359 360 361 362 363 365 366 367 368 369\n",
      " 371 372 375 377 378 379 380 381 382 383 385 387 388 389 390 391 392 393\n",
      " 394 395 396 397 398 399 401 404 405 406 407 408 409 411 412 413 416 417\n",
      " 418 420 422 423 424 425 426 427 428 429 430 431 432 433 434 435 436 439\n",
      " 440 443 444 445 446 448 449 450 451 453 454 455 456 457 458 459 460 461\n",
      " 462 464 465 466 467 468 470 471 473 474 475 476 477 478 479 481 482 483\n",
      " 484 485 486 487 489 490 491 492 493 494 495 497 498 500 501 502 504 505\n",
      " 506 507 508 510 511 512 513 514 516 517 518 519 520 522 523 524 525 526\n",
      " 527 528 529 530 531 532 533 534 535 538 539 540 544 545 546 547 548 549\n",
      " 553 554 555 556 557 559 560 561 562 563 564 565 566 568 570 572 573 574\n",
      " 575 576 577 578 579 581 582 583 586 587 589 590 592 593 594 595 598 599\n",
      " 600 602 603 604 605 606 608 611 612 614 615 616 617 618 619 620 622 623\n",
      " 624 626 627 629 631 632 633 635 636 637 638 639 640 641 642 643 644 645\n",
      " 646 647 648 649 651 652 653 654 658 659 660 661 662 663 664 666 667 668\n",
      " 669 671 672 673 674 675 676 677 678 679 681 682 685 686 687 689 690 691\n",
      " 692 693 694 695 696 698 699 700 701 703 705 706 707 709 710 711 713 714\n",
      " 715 716 717 718 719 720 722 724 725 727 728 731 732 734 735 737 739 745\n",
      " 746 747 748 749 750 751 752 754 755 756 757 758 759 760 761 762 763 764\n",
      " 765 766 767]\n",
      "  Test:  index=[  3   5   8  16  26  36  37  45  48  50  53  96 103 111 112 119 122 123\n",
      " 127 129 143 146 147 150 151 152 157 162 171 175 183 186 194 197 202 207\n",
      " 219 224 225 226 229 232 233 237 246 253 258 262 263 267 279 282 283 285\n",
      " 293 297 303 316 317 325 347 348 358 364 370 373 374 376 384 386 400 402\n",
      " 403 410 414 415 419 421 437 438 441 442 447 452 463 469 472 480 488 496\n",
      " 499 503 509 515 521 536 537 541 542 543 550 551 552 558 567 569 571 580\n",
      " 584 585 588 591 596 597 601 607 609 610 613 621 625 628 630 634 650 655\n",
      " 656 657 665 670 680 683 684 688 697 702 704 708 712 721 723 726 729 730\n",
      " 733 736 738 740 741 742 743 744 753]\n",
      "Fold 4:\n",
      "  Train: index=[  0   2   3   5   6   7   8   9  10  11  12  15  16  17  18  19  22  23\n",
      "  24  25  26  28  29  30  31  33  36  37  38  39  41  42  43  44  45  46\n",
      "  48  49  50  51  53  54  55  56  57  59  60  61  63  65  66  67  68  69\n",
      "  70  72  73  74  75  76  77  78  79  81  82  83  84  86  88  89  90  92\n",
      "  93  94  96  97 100 101 103 104 107 108 109 110 111 112 113 114 115 116\n",
      " 117 118 119 120 122 123 124 125 126 127 129 131 132 133 135 136 137 139\n",
      " 140 141 142 143 144 145 146 147 148 149 150 151 152 153 154 155 157 158\n",
      " 162 163 164 165 167 168 169 171 172 173 174 175 176 177 178 179 180 181\n",
      " 182 183 184 185 186 188 190 192 193 194 195 196 197 198 199 202 203 204\n",
      " 207 208 209 210 211 212 213 215 218 219 220 221 222 223 224 225 226 227\n",
      " 228 229 231 232 233 234 235 236 237 238 239 244 245 246 247 248 249 250\n",
      " 253 254 255 256 257 258 259 260 261 262 263 264 265 266 267 268 271 272\n",
      " 274 275 277 278 279 280 281 282 283 284 285 286 287 289 290 291 292 293\n",
      " 294 296 297 298 299 300 301 302 303 304 305 306 307 309 310 311 312 314\n",
      " 316 317 318 319 320 321 322 323 324 325 326 327 328 329 331 332 333 334\n",
      " 335 336 338 340 341 342 344 346 347 348 349 350 351 352 353 354 355 356\n",
      " 357 358 359 360 361 362 363 364 365 367 368 369 370 371 373 374 375 376\n",
      " 377 380 381 382 383 384 386 388 390 393 394 395 396 398 399 400 402 403\n",
      " 404 405 407 408 409 410 411 412 414 415 416 417 419 420 421 422 423 424\n",
      " 425 426 428 429 430 431 432 433 434 436 437 438 439 440 441 442 443 444\n",
      " 445 446 447 448 449 450 451 452 453 456 457 462 463 464 465 467 468 469\n",
      " 470 472 473 477 478 479 480 481 482 483 485 486 487 488 490 493 494 495\n",
      " 496 497 499 500 501 503 506 507 509 511 512 513 514 515 516 517 518 519\n",
      " 521 522 523 525 526 527 528 529 530 531 532 533 534 535 536 537 538 539\n",
      " 541 542 543 544 545 547 548 549 550 551 552 554 557 558 559 567 568 569\n",
      " 570 571 572 575 576 578 579 580 581 582 583 584 585 586 587 588 589 590\n",
      " 591 593 594 595 596 597 598 599 601 602 603 604 605 606 607 608 609 610\n",
      " 611 613 615 616 617 618 619 620 621 622 623 624 625 626 627 628 629 630\n",
      " 631 632 633 634 635 636 637 638 639 640 641 643 644 645 648 649 650 654\n",
      " 655 656 657 659 662 664 665 666 667 668 669 670 671 672 673 674 675 677\n",
      " 679 680 682 683 684 685 688 689 690 691 692 694 695 696 697 698 701 702\n",
      " 703 704 705 706 707 708 709 711 712 713 714 715 716 718 719 720 721 723\n",
      " 724 725 726 727 728 729 730 731 732 733 734 735 736 737 738 739 740 741\n",
      " 742 743 744 745 746 748 749 751 752 753 754 755 757 758 759 760 762 763\n",
      " 764 766 767]\n",
      "  Test:  index=[  1   4  13  14  20  21  27  32  34  35  40  47  52  58  62  64  71  80\n",
      "  85  87  91  95  98  99 102 105 106 121 128 130 134 138 156 159 160 161\n",
      " 166 170 187 189 191 200 201 205 206 214 216 217 230 240 241 242 243 251\n",
      " 252 269 270 273 276 288 295 308 313 315 330 337 339 343 345 366 372 378\n",
      " 379 385 387 389 391 392 397 401 406 413 418 427 435 454 455 458 459 460\n",
      " 461 466 471 474 475 476 484 489 491 492 498 502 504 505 508 510 520 524\n",
      " 540 546 553 555 556 560 561 562 563 564 565 566 573 574 577 592 600 612\n",
      " 614 642 646 647 651 652 653 658 660 661 663 676 678 681 686 687 693 699\n",
      " 700 710 717 722 747 750 756 761 765]\n"
     ]
    }
   ],
   "source": [
    "for i, (train_index, test_index) in enumerate(cv.split(X)):\n",
    "    print(f\"Fold {i}:\")    \n",
    "    print(f\"  Train: index={train_index}\")\n",
    "    print(f\"  Test:  index={test_index}\")"
   ]
  },
  {
   "cell_type": "code",
   "execution_count": 253,
   "id": "d79dcfb8",
   "metadata": {},
   "outputs": [],
   "source": [
    "scores = cross_val_score(clf, X_train, y_train, cv = cv)"
   ]
  },
  {
   "cell_type": "markdown",
   "id": "37bd6f2d",
   "metadata": {},
   "source": [
    "# Mean and Std:"
   ]
  },
  {
   "cell_type": "code",
   "execution_count": 254,
   "id": "c8d86411",
   "metadata": {},
   "outputs": [
    {
     "data": {
      "text/plain": [
       "0.7296947887511661"
      ]
     },
     "execution_count": 254,
     "metadata": {},
     "output_type": "execute_result"
    }
   ],
   "source": [
    "scores.mean()\n"
   ]
  },
  {
   "cell_type": "code",
   "execution_count": 255,
   "id": "7a27a585",
   "metadata": {},
   "outputs": [
    {
     "data": {
      "text/plain": [
       "0.04611246824402215"
      ]
     },
     "execution_count": 255,
     "metadata": {},
     "output_type": "execute_result"
    }
   ],
   "source": [
    "scores.std()"
   ]
  },
  {
   "cell_type": "markdown",
   "id": "e2997b46",
   "metadata": {},
   "source": [
    "# Confusion Matrix"
   ]
  },
  {
   "cell_type": "code",
   "execution_count": 256,
   "id": "a29e3c4e",
   "metadata": {},
   "outputs": [
    {
     "name": "stdout",
     "output_type": "stream",
     "text": [
      "Normalized confusion matrix\n",
      "[[0.93939394 0.06060606]\n",
      " [0.54545455 0.45454545]]\n"
     ]
    },
    {
     "data": {
      "image/png": "[encoded data removed]",
      "text/plain": [
       "<Figure size 640x480 with 2 Axes>"
      ]
     },
     "metadata": {},
     "output_type": "display_data"
    }
   ],
   "source": [
    "import matplotlib.pyplot as plt\n",
    "from sklearn.metrics import ConfusionMatrixDisplay\n",
    "\n",
    "\n",
    "titles_options = [\n",
    "    (\"Normalized confusion matrix\", \"true\")\n",
    "]\n",
    "for title, normalize in titles_options:\n",
    "    disp = ConfusionMatrixDisplay.from_estimator(\n",
    "        clf,\n",
    "        X_test,\n",
    "        y_test,\n",
    "        #display_labels=class_names,\n",
    "        cmap=plt.cm.Blues,\n",
    "        normalize=normalize,\n",
    "    )\n",
    "    disp.ax_.set_title(title)\n",
    "\n",
    "    print(title)\n",
    "    print(disp.confusion_matrix)\n",
    "\n",
    "plt.show()"
   ]
  },
  {
   "cell_type": "markdown",
   "id": "2f5182ed",
   "metadata": {},
   "source": [
    "## This model is only accurate when it comes to true negatives, which is not the most ideal. Although 94% for True Negatives is good,the issue lies within the models ability to prediction a true positivie. The model will predict false when the pateint truly has diabtes 55% of the time which is not good. Using KNN, the model is not as accurate as we would like it to be."
   ]
  },
  {
   "cell_type": "code",
   "execution_count": null,
   "id": "5b0b8cea",
   "metadata": {},
   "outputs": [],
   "source": []
  },
  {
   "cell_type": "markdown",
   "id": "afbe918b",
   "metadata": {},
   "source": [
    "# Part 2:"
   ]
  },
  {
   "cell_type": "markdown",
   "id": "d49ac364",
   "metadata": {},
   "source": [
    "## Gaussian"
   ]
  },
  {
   "cell_type": "code",
   "execution_count": 64,
   "id": "b08867b0",
   "metadata": {},
   "outputs": [],
   "source": [
    "#imports\n",
    "from sklearn.naive_bayes import GaussianNB"
   ]
  },
  {
   "cell_type": "code",
   "execution_count": 94,
   "id": "710845b9",
   "metadata": {},
   "outputs": [],
   "source": [
    "XGauss_train, XGauss_test, yGauss_train, yGauss_test = train_test_split(X, y, test_size=0.2, random_state=None)\n",
    "\n",
    "XGauss_train, XGauss_val, yGauss_train, yGauss_val = train_test_split(XGauss_train, yGauss_train, test_size=0.25, random_state=None)"
   ]
  },
  {
   "cell_type": "code",
   "execution_count": 95,
   "id": "f76137e7",
   "metadata": {},
   "outputs": [],
   "source": [
    "modelGauss = GaussianNB()"
   ]
  },
  {
   "cell_type": "code",
   "execution_count": 96,
   "id": "2fb0e6c4",
   "metadata": {},
   "outputs": [
    {
     "data": {
      "text/plain": [
       "GaussianNB()"
      ]
     },
     "execution_count": 96,
     "metadata": {},
     "output_type": "execute_result"
    }
   ],
   "source": [
    "modelGauss.fit(XGauss_train, yGauss_train)"
   ]
  },
  {
   "cell_type": "code",
   "execution_count": 97,
   "id": "bbbaa35a",
   "metadata": {},
   "outputs": [],
   "source": [
    "yGauss_pred = modelGauss.predict(XGauss_test)"
   ]
  },
  {
   "cell_type": "code",
   "execution_count": 98,
   "id": "43bf9068",
   "metadata": {},
   "outputs": [
    {
     "name": "stdout",
     "output_type": "stream",
     "text": [
      "Accuracy: 0.7467532467532467\n"
     ]
    }
   ],
   "source": [
    "print(\"Accuracy:\",metrics.accuracy_score(yGauss_test, yGauss_pred))"
   ]
  },
  {
   "cell_type": "code",
   "execution_count": 100,
   "id": "999e5b0d",
   "metadata": {},
   "outputs": [],
   "source": [
    "cvGauss = KFold(n_splits=5)"
   ]
  },
  {
   "cell_type": "code",
   "execution_count": 101,
   "id": "2f7f46a9",
   "metadata": {},
   "outputs": [],
   "source": [
    "scoresGauss = cross_val_score(modelGauss, XGauss_train, yGauss_train, cv=cvGauss)"
   ]
  },
  {
   "cell_type": "markdown",
   "id": "e4a3dbc5",
   "metadata": {},
   "source": [
    "### Gauss Training KCV Mean and STD:"
   ]
  },
  {
   "cell_type": "code",
   "execution_count": 102,
   "id": "993532ce",
   "metadata": {},
   "outputs": [
    {
     "data": {
      "text/plain": [
       "0.7499999999999999"
      ]
     },
     "execution_count": 102,
     "metadata": {},
     "output_type": "execute_result"
    }
   ],
   "source": [
    "scoresGauss.mean()"
   ]
  },
  {
   "cell_type": "code",
   "execution_count": 103,
   "id": "c614bcd3",
   "metadata": {},
   "outputs": [
    {
     "data": {
      "text/plain": [
       "0.022800192351525028"
      ]
     },
     "execution_count": 103,
     "metadata": {},
     "output_type": "execute_result"
    }
   ],
   "source": [
    "scoresGauss.std()"
   ]
  },
  {
   "cell_type": "markdown",
   "id": "3df7b21e",
   "metadata": {},
   "source": [
    "### Gauss Validation KCV Mean and STD:"
   ]
  },
  {
   "cell_type": "code",
   "execution_count": 104,
   "id": "059f117c",
   "metadata": {},
   "outputs": [
    {
     "data": {
      "text/plain": [
       "GaussianNB()"
      ]
     },
     "execution_count": 104,
     "metadata": {},
     "output_type": "execute_result"
    }
   ],
   "source": [
    "modelGauss.fit(XGauss_val, yGauss_val)"
   ]
  },
  {
   "cell_type": "code",
   "execution_count": 105,
   "id": "e5be3870",
   "metadata": {},
   "outputs": [],
   "source": [
    "yGauss_pred = modelGauss.predict(XGauss_test)"
   ]
  },
  {
   "cell_type": "code",
   "execution_count": 117,
   "id": "6b0adf3b",
   "metadata": {},
   "outputs": [
    {
     "name": "stdout",
     "output_type": "stream",
     "text": [
      "Accuracy: 0.7272727272727273\n"
     ]
    }
   ],
   "source": [
    "print(\"Accuracy:\",metrics.accuracy_score(yGauss_test, yGauss_pred))"
   ]
  },
  {
   "cell_type": "code",
   "execution_count": 107,
   "id": "80e0b60d",
   "metadata": {},
   "outputs": [],
   "source": [
    "cvGaussVal = KFold(n_splits=5)"
   ]
  },
  {
   "cell_type": "code",
   "execution_count": 111,
   "id": "6e9392fd",
   "metadata": {},
   "outputs": [],
   "source": [
    "scoresGaussVal = cross_val_score(modelGauss, XGauss_val, yGauss_val, cv=cvGaussVal)"
   ]
  },
  {
   "cell_type": "code",
   "execution_count": 112,
   "id": "d181befe",
   "metadata": {},
   "outputs": [
    {
     "data": {
      "text/plain": [
       "0.7731182795698925"
      ]
     },
     "execution_count": 112,
     "metadata": {},
     "output_type": "execute_result"
    }
   ],
   "source": [
    "scoresGaussVal.mean()"
   ]
  },
  {
   "cell_type": "code",
   "execution_count": 113,
   "id": "72ed08eb",
   "metadata": {},
   "outputs": [
    {
     "data": {
      "text/plain": [
       "0.03912560300787151"
      ]
     },
     "execution_count": 113,
     "metadata": {},
     "output_type": "execute_result"
    }
   ],
   "source": [
    "scoresGaussVal.std()"
   ]
  },
  {
   "cell_type": "markdown",
   "id": "1ba10cfd",
   "metadata": {},
   "source": [
    "## The Gaussian model is showing to have an accuracy of about 75% in the training set and 73% in the validation set."
   ]
  },
  {
   "cell_type": "markdown",
   "id": "6df5aeb8",
   "metadata": {},
   "source": [
    "## Multinomial:"
   ]
  },
  {
   "cell_type": "code",
   "execution_count": 150,
   "id": "62b283ac",
   "metadata": {},
   "outputs": [],
   "source": [
    "#imports\n",
    "from sklearn.naive_bayes import MultinomialNB\n",
    "\n",
    "#Cannot use negative numbers, trying to go around this by using MinMaxScaler\n",
    "\n",
    "from sklearn.preprocessing import MinMaxScaler"
   ]
  },
  {
   "cell_type": "code",
   "execution_count": 151,
   "id": "0b6e2ce5",
   "metadata": {},
   "outputs": [],
   "source": [
    "Xminmax = df.drop(['Outcome'], axis =1)\n",
    "yminmax = df['Outcome']\n",
    "\n",
    "Xmnb_train, Xmnb_test, ymnb_train, ymnb_test = train_test_split(Xminmax, yminmax, test_size=0.2, random_state=None)\n",
    "\n",
    "Xmnb_train, Xmnb_val, ymnb_train, ymnb_val = train_test_split(Xmnb_train, ymnb_train, test_size=0.25, random_state=None)"
   ]
  },
  {
   "cell_type": "code",
   "execution_count": 261,
   "id": "e797131c",
   "metadata": {},
   "outputs": [],
   "source": [
    "#scaling data\n",
    "\n",
    "newScale = MinMaxScaler()\n",
    "\n",
    "Xmnb_train = newScale.fit_transform(Xmnb_train)\n",
    "Xmnb_test = newScale.transform(Xmnb_test)\n"
   ]
  },
  {
   "cell_type": "code",
   "execution_count": 160,
   "id": "520b6b90",
   "metadata": {},
   "outputs": [],
   "source": [
    "clfMNB = MultinomialNB()"
   ]
  },
  {
   "cell_type": "code",
   "execution_count": 161,
   "id": "064ee4e7",
   "metadata": {},
   "outputs": [
    {
     "data": {
      "text/plain": [
       "MultinomialNB()"
      ]
     },
     "execution_count": 161,
     "metadata": {},
     "output_type": "execute_result"
    }
   ],
   "source": [
    "clfMNB.fit(Xmnb_train, ymnb_train)"
   ]
  },
  {
   "cell_type": "code",
   "execution_count": 165,
   "id": "f0e8df31",
   "metadata": {},
   "outputs": [],
   "source": [
    "ymnb_pred = clfMNB.predict(Xmnb_test)"
   ]
  },
  {
   "cell_type": "code",
   "execution_count": 166,
   "id": "a0d5c653",
   "metadata": {},
   "outputs": [
    {
     "name": "stdout",
     "output_type": "stream",
     "text": [
      "Accuracy: 0.4675324675324675\n"
     ]
    }
   ],
   "source": [
    "print(\"Accuracy:\",metrics.accuracy_score(ymnb_test, ymnb_pred))"
   ]
  },
  {
   "cell_type": "code",
   "execution_count": 186,
   "id": "bc19a715",
   "metadata": {},
   "outputs": [],
   "source": [
    "cvMNB= KFold(n_splits=5)"
   ]
  },
  {
   "cell_type": "code",
   "execution_count": 187,
   "id": "6c3883d3",
   "metadata": {},
   "outputs": [],
   "source": [
    "scoresMNB = cross_val_score(clfMNB, Xmnb_train, ymnb_train, cv=cvMNB)"
   ]
  },
  {
   "cell_type": "markdown",
   "id": "3b7958d1",
   "metadata": {},
   "source": [
    "## Multinomial Training KCV Mean and STD:"
   ]
  },
  {
   "cell_type": "code",
   "execution_count": 188,
   "id": "12213da7",
   "metadata": {},
   "outputs": [
    {
     "data": {
      "text/plain": [
       "0.6434782608695653"
      ]
     },
     "execution_count": 188,
     "metadata": {},
     "output_type": "execute_result"
    }
   ],
   "source": [
    "scoresMNB.mean()"
   ]
  },
  {
   "cell_type": "code",
   "execution_count": 189,
   "id": "7b15a368",
   "metadata": {},
   "outputs": [
    {
     "data": {
      "text/plain": [
       "0.07157425057893185"
      ]
     },
     "execution_count": 189,
     "metadata": {},
     "output_type": "execute_result"
    }
   ],
   "source": [
    "scoresMNB.std()"
   ]
  },
  {
   "cell_type": "markdown",
   "id": "87bedc4c",
   "metadata": {},
   "source": [
    "## Multinomial Validation KCV Mean and STD:"
   ]
  },
  {
   "cell_type": "code",
   "execution_count": 259,
   "id": "6d7f1318",
   "metadata": {},
   "outputs": [
    {
     "name": "stdout",
     "output_type": "stream",
     "text": [
      "Accuracy: 0.5909090909090909\n"
     ]
    }
   ],
   "source": [
    "clfMNB.fit(Xmnb_val.values, ymnb_val)\n",
    "\n",
    "ymnb_pred = clfMNB.predict(Xmnb_test)\n",
    "\n",
    "print(\"Accuracy:\",metrics.accuracy_score(ymnb_test, ymnb_pred))\n"
   ]
  },
  {
   "cell_type": "code",
   "execution_count": 218,
   "id": "584d0264",
   "metadata": {},
   "outputs": [],
   "source": [
    "cvMNB_Val = KFold(n_splits=5)\n",
    "\n",
    "scoresMNB_Val = cross_val_score(clfMNB, Xmnb_train, ymnb_train, cv=cvMNB_Val)\n"
   ]
  },
  {
   "cell_type": "code",
   "execution_count": 219,
   "id": "a1dbc86f",
   "metadata": {},
   "outputs": [
    {
     "data": {
      "text/plain": [
       "0.6434782608695653"
      ]
     },
     "execution_count": 219,
     "metadata": {},
     "output_type": "execute_result"
    }
   ],
   "source": [
    "scoresMNB_Val.mean()"
   ]
  },
  {
   "cell_type": "code",
   "execution_count": 220,
   "id": "fe928696",
   "metadata": {},
   "outputs": [
    {
     "data": {
      "text/plain": [
       "0.07157425057893185"
      ]
     },
     "execution_count": 220,
     "metadata": {},
     "output_type": "execute_result"
    }
   ],
   "source": [
    "scoresMNB_Val.std()"
   ]
  },
  {
   "cell_type": "markdown",
   "id": "ec2706b7",
   "metadata": {},
   "source": [
    "## The Multinomial model showed an even worse accuracy than the Gaussian Model at 59%. This makes sense, however, because a different scale was used due to the fact that the previous scaling had negative number and multinomail does not accept negatives. "
   ]
  },
  {
   "cell_type": "markdown",
   "id": "5eb6dfe3",
   "metadata": {},
   "source": [
    "# Bernoulli:"
   ]
  },
  {
   "cell_type": "code",
   "execution_count": 200,
   "id": "ecb5032f",
   "metadata": {},
   "outputs": [],
   "source": [
    "#imports\n",
    "from sklearn.naive_bayes import BernoulliNB"
   ]
  },
  {
   "cell_type": "code",
   "execution_count": 201,
   "id": "58f6f337",
   "metadata": {},
   "outputs": [],
   "source": [
    "clfBernoulli = BernoulliNB()"
   ]
  },
  {
   "cell_type": "code",
   "execution_count": 203,
   "id": "32b19b87",
   "metadata": {},
   "outputs": [],
   "source": [
    "X_bern_train, X_bern_test, y_bern_train, y_bern_test = train_test_split(X, y, test_size=0.2, random_state=None)\n",
    "\n",
    "X_bern_train, X_bern_val, y_bern_train, y_bern_val = train_test_split(X_bern_train, y_bern_train, test_size=0.25, random_state=None)"
   ]
  },
  {
   "cell_type": "code",
   "execution_count": 204,
   "id": "f0ff48a5",
   "metadata": {},
   "outputs": [
    {
     "data": {
      "text/plain": [
       "BernoulliNB()"
      ]
     },
     "execution_count": 204,
     "metadata": {},
     "output_type": "execute_result"
    }
   ],
   "source": [
    "clfBernoulli.fit(X_bern_train,y_bern_train)"
   ]
  },
  {
   "cell_type": "code",
   "execution_count": 206,
   "id": "9f42eb55",
   "metadata": {},
   "outputs": [],
   "source": [
    "y_bern_pred = clfBernoulli.predict(X_bern_test)"
   ]
  },
  {
   "cell_type": "code",
   "execution_count": 207,
   "id": "062b53c5",
   "metadata": {},
   "outputs": [
    {
     "name": "stdout",
     "output_type": "stream",
     "text": [
      "Accuracy: 0.7597402597402597\n"
     ]
    }
   ],
   "source": [
    "print(\"Accuracy:\",metrics.accuracy_score(y_bern_test, y_bern_pred))"
   ]
  },
  {
   "cell_type": "code",
   "execution_count": 221,
   "id": "2226cbc1",
   "metadata": {},
   "outputs": [],
   "source": [
    "cvBern = KFold(n_splits=5)\n",
    "\n",
    "scoresBern = cross_val_score(clfBernoulli, X_bern_val, y_bern_val, cv=cvBern)"
   ]
  },
  {
   "cell_type": "markdown",
   "id": "345b935c",
   "metadata": {},
   "source": [
    "## Bernoulli Training KCV Mean and STD:"
   ]
  },
  {
   "cell_type": "code",
   "execution_count": 222,
   "id": "d99036c4",
   "metadata": {},
   "outputs": [
    {
     "data": {
      "text/plain": [
       "0.5982795698924731"
      ]
     },
     "execution_count": 222,
     "metadata": {},
     "output_type": "execute_result"
    }
   ],
   "source": [
    "scoresBern.mean()"
   ]
  },
  {
   "cell_type": "code",
   "execution_count": 223,
   "id": "22189c04",
   "metadata": {},
   "outputs": [
    {
     "data": {
      "text/plain": [
       "0.12148082347797547"
      ]
     },
     "execution_count": 223,
     "metadata": {},
     "output_type": "execute_result"
    }
   ],
   "source": [
    "scoresBern.std()"
   ]
  },
  {
   "cell_type": "markdown",
   "id": "3954a5a8",
   "metadata": {},
   "source": [
    "## Bernoulli Validation KCV Mean and STD:"
   ]
  },
  {
   "cell_type": "code",
   "execution_count": 211,
   "id": "9680ec1c",
   "metadata": {},
   "outputs": [
    {
     "data": {
      "text/plain": [
       "BernoulliNB()"
      ]
     },
     "execution_count": 211,
     "metadata": {},
     "output_type": "execute_result"
    }
   ],
   "source": [
    "clfBernoulli.fit(X_bern_val,y_bern_val)"
   ]
  },
  {
   "cell_type": "code",
   "execution_count": 212,
   "id": "a02ab556",
   "metadata": {},
   "outputs": [],
   "source": [
    "y_bern_pred = clfBernoulli.predict(X_bern_test)"
   ]
  },
  {
   "cell_type": "code",
   "execution_count": 213,
   "id": "21e6279b",
   "metadata": {},
   "outputs": [
    {
     "name": "stdout",
     "output_type": "stream",
     "text": [
      "Accuracy: 0.7142857142857143\n"
     ]
    }
   ],
   "source": [
    "print(\"Accuracy:\",metrics.accuracy_score(y_bern_test, y_bern_pred))"
   ]
  },
  {
   "cell_type": "code",
   "execution_count": 216,
   "id": "07234b96",
   "metadata": {},
   "outputs": [],
   "source": [
    "cvBernVal = KFold(n_splits=5)\n",
    "\n",
    "scoresBernVal = cross_val_score(clfBernoulli, X_bern_val, y_bern_val, cv=cvBernVal)"
   ]
  },
  {
   "cell_type": "code",
   "execution_count": 217,
   "id": "6227a310",
   "metadata": {},
   "outputs": [
    {
     "data": {
      "text/plain": [
       "0.5982795698924731"
      ]
     },
     "execution_count": 217,
     "metadata": {},
     "output_type": "execute_result"
    }
   ],
   "source": [
    "scoresBernVal.mean()"
   ]
  },
  {
   "cell_type": "markdown",
   "id": "d2112484",
   "metadata": {},
   "source": [
    "## The Bernoulli Model ends up having an accuracy of 76% in the training set and 71% in the validation set."
   ]
  },
  {
   "cell_type": "code",
   "execution_count": null,
   "id": "fca8228d",
   "metadata": {},
   "outputs": [],
   "source": []
  },
  {
   "cell_type": "markdown",
   "id": "3852a786",
   "metadata": {},
   "source": [
    "# According to the models that were trained, it seems as if the best Naives Bayes model for this data is the Bernoulli Model. I am not sure what to think of this because on one hand, Bernoulli, in theory, takes only binary numbers. I do not believe I correctly fitted the data to match that criteria, yet I recieved no issues when running the code. On the other hand, the \"Outcome\" column, which is our column of interest, is in fact a column with binary options with 0 and 1. \n"
   ]
  },
  {
   "cell_type": "code",
   "execution_count": null,
   "id": "7b27789b",
   "metadata": {},
   "outputs": [],
   "source": []
  },
  {
   "cell_type": "markdown",
   "id": "ad3510e5",
   "metadata": {},
   "source": [
    "# Part 3:\n"
   ]
  },
  {
   "cell_type": "code",
   "execution_count": null,
   "id": "754502f4",
   "metadata": {},
   "outputs": [],
   "source": []
  },
  {
   "cell_type": "code",
   "execution_count": null,
   "id": "a87c1b4f",
   "metadata": {},
   "outputs": [],
   "source": [
    "#empty"
   ]
  },
  {
   "cell_type": "code",
   "execution_count": null,
   "id": "54e2e489",
   "metadata": {},
   "outputs": [],
   "source": []
  },
  {
   "cell_type": "markdown",
   "id": "3e515b3a",
   "metadata": {},
   "source": [
    "# Part 4:"
   ]
  },
  {
   "cell_type": "markdown",
   "id": "ddbebc35",
   "metadata": {},
   "source": [
    "#### According to the models that were trained and tested, it seems that KNN is the best choice to go with for classifying the data. Although the results aren't spectacular, the accuracy is the highest using KNN."
   ]
  }
 ],
 "metadata": {
  "kernelspec": {
   "display_name": "Python 3 (ipykernel)",
   "language": "python",
   "name": "python3"
  },
  "language_info": {
   "codemirror_mode": {
    "name": "ipython",
    "version": 3
   },
   "file_extension": ".py",
   "mimetype": "text/x-python",
   "name": "python",
   "nbconvert_exporter": "python",
   "pygments_lexer": "ipython3",
   "version": "3.9.13"
  }
 },
 "nbformat": 4,
 "nbformat_minor": 5
}
